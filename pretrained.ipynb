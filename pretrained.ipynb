{
  "nbformat": 4,
  "nbformat_minor": 0,
  "metadata": {
    "colab": {
      "provenance": []
    },
    "kernelspec": {
      "name": "python3",
      "display_name": "Python 3"
    },
    "language_info": {
      "name": "python"
    }
  },
  "cells": [
    {
      "cell_type": "code",
      "source": [
        "from tensorflow.keras.applications import ResNet50, VGG16\n",
        "from tensorflow.keras.layers import Dense, GlobalAveragePooling2D\n",
        "from tensorflow.keras.models import Sequential\n",
        "import tensorflow as tf"
      ],
      "metadata": {
        "id": "CoNycvdT3fb9"
      },
      "execution_count": 1,
      "outputs": []
    },
    {
      "cell_type": "code",
      "source": [
        "def create_pretrained_model(base_model):\n",
        "    base_model.trainable = False\n",
        "    model = Sequential([\n",
        "        base_model,\n",
        "        GlobalAveragePooling2D(),\n",
        "        Dense(512, activation='relu'),\n",
        "        Dense(1, activation='sigmoid')  #\n",
        "    ])\n",
        "    return model"
      ],
      "metadata": {
        "id": "LDhSI7U33kUQ"
      },
      "execution_count": 3,
      "outputs": []
    },
    {
      "cell_type": "code",
      "source": [
        "resnet_base = ResNet50(input_shape=(150, 150, 3), include_top=False, weights='imagenet')\n",
        "resnet_model = create_pretrained_model(resnet_base)"
      ],
      "metadata": {
        "id": "jbsw_at33tiB"
      },
      "execution_count": 4,
      "outputs": []
    },
    {
      "cell_type": "code",
      "source": [
        "resnet_model.compile(optimizer='adam', loss='binary_crossentropy', metrics=['accuracy'])\n",
        "print(\"Training ResNet50 model...\")\n",
        "resnet_history = resnet_model.fit(\n",
        "    train_gen,\n",
        "    validation_data=val_gen,\n",
        "    epochs=10,\n",
        "    verbose=1\n",
        ")"
      ],
      "metadata": {
        "colab": {
          "base_uri": "https://localhost:8080/",
          "height": 233
        },
        "id": "m52wM1V036Wq",
        "outputId": "d2d01fd6-53ad-46de-824d-d93364b1c6d4"
      },
      "execution_count": 5,
      "outputs": [
        {
          "output_type": "stream",
          "name": "stdout",
          "text": [
            "Training ResNet50 model...\n"
          ]
        },
        {
          "output_type": "error",
          "ename": "NameError",
          "evalue": "name 'train_gen' is not defined",
          "traceback": [
            "\u001b[0;31m---------------------------------------------------------------------------\u001b[0m",
            "\u001b[0;31mNameError\u001b[0m                                 Traceback (most recent call last)",
            "\u001b[0;32m<ipython-input-5-999c9a46e5b7>\u001b[0m in \u001b[0;36m<cell line: 3>\u001b[0;34m()\u001b[0m\n\u001b[1;32m      2\u001b[0m \u001b[0mprint\u001b[0m\u001b[0;34m(\u001b[0m\u001b[0;34m\"Training ResNet50 model...\"\u001b[0m\u001b[0;34m)\u001b[0m\u001b[0;34m\u001b[0m\u001b[0;34m\u001b[0m\u001b[0m\n\u001b[1;32m      3\u001b[0m resnet_history = resnet_model.fit(\n\u001b[0;32m----> 4\u001b[0;31m     \u001b[0mtrain_gen\u001b[0m\u001b[0;34m,\u001b[0m\u001b[0;34m\u001b[0m\u001b[0;34m\u001b[0m\u001b[0m\n\u001b[0m\u001b[1;32m      5\u001b[0m     \u001b[0mvalidation_data\u001b[0m\u001b[0;34m=\u001b[0m\u001b[0mval_gen\u001b[0m\u001b[0;34m,\u001b[0m\u001b[0;34m\u001b[0m\u001b[0;34m\u001b[0m\u001b[0m\n\u001b[1;32m      6\u001b[0m     \u001b[0mepochs\u001b[0m\u001b[0;34m=\u001b[0m\u001b[0;36m10\u001b[0m\u001b[0;34m,\u001b[0m\u001b[0;34m\u001b[0m\u001b[0;34m\u001b[0m\u001b[0m\n",
            "\u001b[0;31mNameError\u001b[0m: name 'train_gen' is not defined"
          ]
        }
      ]
    },
    {
      "cell_type": "code",
      "source": [
        "resnet_loss, resnet_accuracy = resnet_model.evaluate(val_gen)\n",
        "print(f\"ResNet50 Test Loss: {resnet_loss}\")\n",
        "print(f\"ResNet50 Test Accuracy: {resnet_accuracy}\")"
      ],
      "metadata": {
        "id": "Ne5nrBoG3-vD"
      },
      "execution_count": null,
      "outputs": []
    },
    {
      "cell_type": "code",
      "source": [
        "vgg_base = VGG16(input_shape=(150, 150, 3), include_top=False, weights='imagenet')\n",
        "vgg_model = create_pretrained_model(vgg_base)"
      ],
      "metadata": {
        "id": "5k_5qzFR4C1N"
      },
      "execution_count": null,
      "outputs": []
    },
    {
      "cell_type": "code",
      "source": [
        "vgg_model.compile(optimizer='adam', loss='binary_crossentropy', metrics=['accuracy'])\n",
        "print(\"Training VGG16 model...\")\n",
        "vgg_history = vgg_model.fit(\n",
        "    train_gen,\n",
        "    validation_data=val_gen,\n",
        "    epochs=10,\n",
        "    verbose=1\n",
        ")"
      ],
      "metadata": {
        "id": "kINUdqnz4GAO"
      },
      "execution_count": null,
      "outputs": []
    },
    {
      "cell_type": "code",
      "execution_count": null,
      "metadata": {
        "id": "09ObOcy-2LPD"
      },
      "outputs": [],
      "source": [
        "vgg_loss, vgg_accuracy = vgg_model.evaluate(val_gen)\n",
        "print(f\"VGG16 Test Loss: {vgg_loss}\")\n",
        "print(f\"VGG16 Test Accuracy: {vgg_accuracy}\")\n"
      ]
    },
    {
      "cell_type": "code",
      "source": [
        "import matplotlib.pyplot as plt\n",
        "\n",
        "\n",
        "def plot_metrics(history1, history2, model1_name='ResNet50', model2_name='VGG16'):\n",
        "\n",
        "    plt.figure(figsize=(14, 5))\n",
        "\n",
        "    plt.subplot(1, 2, 1)\n",
        "    plt.plot(history1.history['accuracy'], label=f'{model1_name} Train Accuracy')\n",
        "    plt.plot(history1.history['val_accuracy'], label=f'{model1_name} Val Accuracy')\n",
        "    plt.plot(history2.history['accuracy'], label=f'{model2_name} Train Accuracy')\n",
        "    plt.plot(history2.history['val_accuracy'], label=f'{model2_name} Val Accuracy')\n",
        "    plt.title('Model Accuracy Comparison')\n",
        "    plt.xlabel('Epoch')\n",
        "    plt.ylabel('Accuracy')\n",
        "    plt.legend(loc=\"upper left\")\n",
        "\n",
        "\n",
        "    plt.subplot(1, 2, 2)\n",
        "    plt.plot(history1.history['loss'], label=f'{model1_name} Train Loss')\n",
        "    plt.plot(history1.history['val_loss'], label=f'{model1_name} Val Loss')\n",
        "    plt.plot(history2.history['loss'], label=f'{model2_name} Train Loss')\n",
        "    plt.plot(history2.history['val_loss'], label=f'{model2_name} Val Loss')\n",
        "    plt.title('Model Loss Comparison')\n",
        "    plt.xlabel('Epoch')\n",
        "    plt.ylabel('Loss')\n",
        "    plt.legend(loc=\"upper left\")\n",
        "\n",
        "    plt.show()\n",
        "\n",
        "\n",
        "plot_metrics(resnet_history, vgg_history, model1_name='ResNet50', model2_name='VGG16')\n"
      ],
      "metadata": {
        "id": "c3p-xNqW4sT9"
      },
      "execution_count": null,
      "outputs": []
    },
    {
      "cell_type": "code",
      "source": [
        "from sklearn.metrics import confusion_matrix, classification_report\n",
        "import numpy as np\n",
        "\n",
        "\n",
        "def evaluate_model(model, generator, model_name='Model'):\n",
        "\n",
        "    y_true = generator.classes\n",
        "    y_pred = np.round(model.predict(generator)).astype(int)\n",
        "\n",
        "\n",
        "    cm = confusion_matrix(y_true, y_pred)\n",
        "    print(f\"Confusion Matrix for {model_name}:\")\n",
        "    print(cm)\n",
        "\n",
        "\n",
        "    report = classification_report(y_true, y_pred, target_names=generator.class_indices.keys())\n",
        "    print(f\"\\nClassification Report for {model_name}:\\n{report}\")\n",
        "\n",
        "\n",
        "evaluate_model(resnet_model, val_gen, model_name='ResNet50')\n",
        "evaluate_model(vgg_model, val_gen, model_name='VGG16')\n"
      ],
      "metadata": {
        "id": "OkVLDMe0475C"
      },
      "execution_count": null,
      "outputs": []
    }
  ]
}